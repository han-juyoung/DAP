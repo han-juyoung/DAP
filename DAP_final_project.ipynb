{
  "nbformat": 4,
  "nbformat_minor": 0,
  "metadata": {
    "colab": {
      "name": "DAP_final_project.ipynb",
      "provenance": [],
      "authorship_tag": "ABX9TyMlVBU15c+lSTkEb6xR+S2V",
      "include_colab_link": true
    },
    "kernelspec": {
      "name": "python3",
      "display_name": "Python 3"
    },
    "language_info": {
      "name": "python"
    }
  },
  "cells": [
    {
      "cell_type": "markdown",
      "metadata": {
        "id": "view-in-github",
        "colab_type": "text"
      },
      "source": [
        "<a href=\"https://colab.research.google.com/github/han-juyoung/DAP/blob/main/DAP_final_project.ipynb\" target=\"_parent\"><img src=\"https://colab.research.google.com/assets/colab-badge.svg\" alt=\"Open In Colab\"/></a>"
      ]
    },
    {
      "cell_type": "markdown",
      "metadata": {
        "id": "BxiVG7yUmgVu"
      },
      "source": [
        "# 전기차 보유 현황 분석\n",
        "1. 전국 전기자동차 수와 전기차 충전소 수를 비교해서 몇년사이의 추이를 비교한다\n",
        "2. 전기차로 인해 환경오염을 줄일 수 있는 데이터와 비용절감, 연비를 비교해서 넣고 이 주제로 분석을 하게된 이유를 설명한다\n",
        "(지하주차장에 전기차가 최근 보이면서 전기차로 인해 환경오염, 비용 절감 등 측면에서 생각해보게 되었다. 전기차의 숫자와 충전소 수, 개선방안 등)\n",
        "3. 충전소의 수가 부족하다면 대안은?\n",
        "전국의 시청, 군청, 도청에 세워서 그 지역 사람들 뿐만 아니라 타 지역 사람들도 전기차 충전소를 찾을필요 없이 기관으로 갈 수 있도록(?) 자료조사하기.\n",
        "\n"
      ]
    },
    {
      "cell_type": "markdown",
      "metadata": {
        "id": "RKJOCu3Rpbxy"
      },
      "source": [
        "자료 출처 https://www.greenpeace.org/korea/update/6764/blog-ce-buy-an-electric-car-help-the-environment/"
      ]
    },
    {
      "cell_type": "markdown",
      "metadata": {
        "id": "X3-UK9uwpxqN"
      },
      "source": [
        "자료 출처 http://www.thescoop.co.kr/news/articleView.html?idxno=50722"
      ]
    },
    {
      "cell_type": "markdown",
      "metadata": {
        "id": "rQdwtnH_qE_I"
      },
      "source": [
        "자료 출처 https://www.evpost.co.kr/wp/ev%EC%9D%BC%EB%B0%98-%EC%A0%84%EA%B8%B0%EC%B0%A8%EC%9D%98-%EC%9E%A5%EC%A0%90-%ED%95%B5%EC%8B%AC-%EC%9A%94%EC%95%BD/"
      ]
    },
    {
      "cell_type": "code",
      "metadata": {
        "id": "8iMuEEI_pzLu"
      },
      "source": [
        ""
      ],
      "execution_count": null,
      "outputs": []
    },
    {
      "cell_type": "code",
      "metadata": {
        "id": "OqRZVLaVmaNX"
      },
      "source": [
        ""
      ],
      "execution_count": null,
      "outputs": []
    }
  ]
}